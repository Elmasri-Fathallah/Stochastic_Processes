{
  "nbformat": 4,
  "nbformat_minor": 0,
  "metadata": {
    "colab": {
      "name": "Stochastic_Processes_Ex01.ipynb",
      "provenance": [],
      "collapsed_sections": [],
      "mount_file_id": "19GPi_bu_ZSp06KnDwEJkn8_Vk2bG7642",
      "authorship_tag": "ABX9TyMgZUp2dp9SvBThfWzQ7XSJ",
      "include_colab_link": true
    },
    "kernelspec": {
      "name": "python3",
      "display_name": "Python 3"
    }
  },
  "cells": [
    {
      "cell_type": "markdown",
      "metadata": {
        "id": "view-in-github",
        "colab_type": "text"
      },
      "source": [
        "<a href=\"https://colab.research.google.com/github/Elmasri-Fathallah/Stochastic_Processes/blob/master/Stochastic_Processes_Ex01.ipynb\" target=\"_parent\"><img src=\"https://colab.research.google.com/assets/colab-badge.svg\" alt=\"Open In Colab\"/></a>"
      ]
    },
    {
      "cell_type": "markdown",
      "metadata": {
        "id": "f4d0fbcDMBDa",
        "colab_type": "text"
      },
      "source": [
        "# Stochastic Processes- Exercise 01"
      ]
    },
    {
      "cell_type": "markdown",
      "metadata": {
        "id": "Aoc2MzRRM8FP",
        "colab_type": "text"
      },
      "source": [
        "###Objective\n",
        "This exercise deals with time series analysis in the time-domain, calculating variance and correlation\n",
        "coefficients as well as autocovariance and autocorrelation.\n"
      ]
    },
    {
      "cell_type": "markdown",
      "metadata": {
        "id": "L3GuHlHoMl0R",
        "colab_type": "text"
      },
      "source": [
        "## Task 01- Linear Dependence"
      ]
    },
    {
      "cell_type": "markdown",
      "metadata": {
        "id": "m2gKKUDYNIH3",
        "colab_type": "text"
      },
      "source": [
        "Given three series of measurements, where the first column\n",
        "represents the x-values and the others columns the y-values. \n",
        "\n",
        "1.   Plot the three series of measurements\n",
        "2.   Calculate the correlation coefficient for each series\n",
        "\n",
        "3.   Interpret the results\n",
        "4.   Create an own series, which correlation coefficient is approximately resulting in: \n",
        "$𝑟 = [0.5   − 0.8 2]$\n",
        "\n",
        "\n"
      ]
    },
    {
      "cell_type": "markdown",
      "metadata": {
        "id": "jxJso8y0PEAg",
        "colab_type": "text"
      },
      "source": [
        "**1.   Plot the three series of measurements** \n",
        "\n",
        "\n"
      ]
    },
    {
      "cell_type": "code",
      "metadata": {
        "id": "0RJSCDIKMAWF",
        "colab_type": "code",
        "outputId": "febc0945-5731-4d80-bea9-2471349f9a4f",
        "colab": {
          "base_uri": "https://localhost:8080/",
          "height": 122
        }
      },
      "source": [
        "from google.colab import drive\n",
        "drive.mount('/content/drive', force_remount=True)\n",
        "\n",
        "root_dir = \"/content/gdrive/My Drive/\"\n",
        "base_dir = root_dir + 'Stochastic Processes/'"
      ],
      "execution_count": 0,
      "outputs": [
        {
          "output_type": "stream",
          "text": [
            "Go to this URL in a browser: https://accounts.google.com/o/oauth2/auth?client_id=947318989803-6bn6qk8qdgf4n4g3pfee6491hc0brc4i.apps.googleusercontent.com&redirect_uri=urn%3aietf%3awg%3aoauth%3a2.0%3aoob&response_type=code&scope=email%20https%3a%2f%2fwww.googleapis.com%2fauth%2fdocs.test%20https%3a%2f%2fwww.googleapis.com%2fauth%2fdrive%20https%3a%2f%2fwww.googleapis.com%2fauth%2fdrive.photos.readonly%20https%3a%2f%2fwww.googleapis.com%2fauth%2fpeopleapi.readonly\n",
            "\n",
            "Enter your authorization code:\n",
            "··········\n",
            "Mounted at /content/drive\n"
          ],
          "name": "stdout"
        }
      ]
    },
    {
      "cell_type": "code",
      "metadata": {
        "id": "Wak9okr8QyO2",
        "colab_type": "code",
        "colab": {}
      },
      "source": [
        "import numpy as np\n",
        "import pandas as pd\n",
        "%matplotlib inline \n",
        "import matplotlib.pyplot as plt\n"
      ],
      "execution_count": 0,
      "outputs": []
    },
    {
      "cell_type": "code",
      "metadata": {
        "id": "-MkeqSW6QCLB",
        "colab_type": "code",
        "outputId": "6c107df3-5d9d-49e9-d62a-9e1c3388cd12",
        "colab": {
          "base_uri": "https://localhost:8080/",
          "height": 142
        }
      },
      "source": [
        "data = pd.read_csv('Exercise1-1.txt', sep=\" \", header=None)\n",
        "data.head(3)"
      ],
      "execution_count": 0,
      "outputs": [
        {
          "output_type": "execute_result",
          "data": {
            "text/html": [
              "<div>\n",
              "<style scoped>\n",
              "    .dataframe tbody tr th:only-of-type {\n",
              "        vertical-align: middle;\n",
              "    }\n",
              "\n",
              "    .dataframe tbody tr th {\n",
              "        vertical-align: top;\n",
              "    }\n",
              "\n",
              "    .dataframe thead th {\n",
              "        text-align: right;\n",
              "    }\n",
              "</style>\n",
              "<table border=\"1\" class=\"dataframe\">\n",
              "  <thead>\n",
              "    <tr style=\"text-align: right;\">\n",
              "      <th></th>\n",
              "      <th>0</th>\n",
              "      <th>1</th>\n",
              "      <th>2</th>\n",
              "      <th>3</th>\n",
              "    </tr>\n",
              "  </thead>\n",
              "  <tbody>\n",
              "    <tr>\n",
              "      <th>0</th>\n",
              "      <td>-5.00</td>\n",
              "      <td>-6.52</td>\n",
              "      <td>6.20</td>\n",
              "      <td>-0.68</td>\n",
              "    </tr>\n",
              "    <tr>\n",
              "      <th>1</th>\n",
              "      <td>-4.99</td>\n",
              "      <td>-6.13</td>\n",
              "      <td>5.85</td>\n",
              "      <td>0.32</td>\n",
              "    </tr>\n",
              "    <tr>\n",
              "      <th>2</th>\n",
              "      <td>-4.98</td>\n",
              "      <td>-5.50</td>\n",
              "      <td>5.71</td>\n",
              "      <td>-1.70</td>\n",
              "    </tr>\n",
              "  </tbody>\n",
              "</table>\n",
              "</div>"
            ],
            "text/plain": [
              "      0     1     2     3\n",
              "0 -5.00 -6.52  6.20 -0.68\n",
              "1 -4.99 -6.13  5.85  0.32\n",
              "2 -4.98 -5.50  5.71 -1.70"
            ]
          },
          "metadata": {
            "tags": []
          },
          "execution_count": 3
        }
      ]
    },
    {
      "cell_type": "code",
      "metadata": {
        "id": "KjIBYIXbWlV3",
        "colab_type": "code",
        "outputId": "915eefa7-fef7-4049-b5e0-84b14987b444",
        "colab": {
          "base_uri": "https://localhost:8080/",
          "height": 102
        }
      },
      "source": [
        "data.dtypes"
      ],
      "execution_count": 0,
      "outputs": [
        {
          "output_type": "execute_result",
          "data": {
            "text/plain": [
              "0    float64\n",
              "1    float64\n",
              "2    float64\n",
              "3    float64\n",
              "dtype: object"
            ]
          },
          "metadata": {
            "tags": []
          },
          "execution_count": 4
        }
      ]
    },
    {
      "cell_type": "code",
      "metadata": {
        "id": "vStIbxpvXmHl",
        "colab_type": "code",
        "outputId": "7fd4f17f-0e71-4742-8e87-d554e7cbccf0",
        "colab": {
          "base_uri": "https://localhost:8080/",
          "height": 142
        }
      },
      "source": [
        "data.columns = ['x', 'y1','y2','y3']\n",
        "data.head(3)"
      ],
      "execution_count": 0,
      "outputs": [
        {
          "output_type": "execute_result",
          "data": {
            "text/html": [
              "<div>\n",
              "<style scoped>\n",
              "    .dataframe tbody tr th:only-of-type {\n",
              "        vertical-align: middle;\n",
              "    }\n",
              "\n",
              "    .dataframe tbody tr th {\n",
              "        vertical-align: top;\n",
              "    }\n",
              "\n",
              "    .dataframe thead th {\n",
              "        text-align: right;\n",
              "    }\n",
              "</style>\n",
              "<table border=\"1\" class=\"dataframe\">\n",
              "  <thead>\n",
              "    <tr style=\"text-align: right;\">\n",
              "      <th></th>\n",
              "      <th>x</th>\n",
              "      <th>y1</th>\n",
              "      <th>y2</th>\n",
              "      <th>y3</th>\n",
              "    </tr>\n",
              "  </thead>\n",
              "  <tbody>\n",
              "    <tr>\n",
              "      <th>0</th>\n",
              "      <td>-5.00</td>\n",
              "      <td>-6.52</td>\n",
              "      <td>6.20</td>\n",
              "      <td>-0.68</td>\n",
              "    </tr>\n",
              "    <tr>\n",
              "      <th>1</th>\n",
              "      <td>-4.99</td>\n",
              "      <td>-6.13</td>\n",
              "      <td>5.85</td>\n",
              "      <td>0.32</td>\n",
              "    </tr>\n",
              "    <tr>\n",
              "      <th>2</th>\n",
              "      <td>-4.98</td>\n",
              "      <td>-5.50</td>\n",
              "      <td>5.71</td>\n",
              "      <td>-1.70</td>\n",
              "    </tr>\n",
              "  </tbody>\n",
              "</table>\n",
              "</div>"
            ],
            "text/plain": [
              "      x    y1    y2    y3\n",
              "0 -5.00 -6.52  6.20 -0.68\n",
              "1 -4.99 -6.13  5.85  0.32\n",
              "2 -4.98 -5.50  5.71 -1.70"
            ]
          },
          "metadata": {
            "tags": []
          },
          "execution_count": 5
        }
      ]
    },
    {
      "cell_type": "code",
      "metadata": {
        "id": "FJ78CqitQvra",
        "colab_type": "code",
        "outputId": "62e5899a-5ef1-402d-95fc-06b7d39b1439",
        "colab": {
          "base_uri": "https://localhost:8080/",
          "height": 1000
        }
      },
      "source": [
        "plt.figure(figsize=(8,18))\n",
        "\n",
        "plt.subplot(3,1,1)\n",
        "plt.plot(data.x, data.y1)\n",
        "plt.xlabel('Time(Sec)')\n",
        "plt.ylabel('Displacement(cm)')\n",
        "plt.title(('First time-series'))\n",
        "\n",
        "plt.subplot(3,1,2)\n",
        "plt.plot(data.x, data.y2)\n",
        "plt.xlabel('Time(Sec)')\n",
        "plt.ylabel('Displacement(cm)')\n",
        "plt.title(('Second time-series'))\n",
        "\n",
        "plt.subplot(3,1,3)\n",
        "plt.plot(data.x, data.y3)\n",
        "plt.xlabel('Time(Sec)')\n",
        "plt.ylabel('Displacement(cm)')\n",
        "plt.title(('Third time-series'))\n"
      ],
      "execution_count": 0,
      "outputs": [
        {
          "output_type": "execute_result",
          "data": {
            "text/plain": [
              "Text(0.5, 1.0, 'Third time-series')"
            ]
          },
          "metadata": {
            "tags": []
          },
          "execution_count": 22
        },
        {
          "output_type": "display_data",
          "data": {
            "image/png": "[encoded data removed]",
            "text/plain": [
              "<Figure size 576x1296 with 3 Axes>"
            ]
          },
          "metadata": {
            "tags": [],
            "needs_background": "light"
          }
        }
      ]
    },
    {
      "cell_type": "markdown",
      "metadata": {
        "id": "N49r4qLHzPBB",
        "colab_type": "text"
      },
      "source": [
        "**2.   Calculate the correlation coefficient for each series** \n",
        "\n"
      ]
    },
    {
      "cell_type": "code",
      "metadata": {
        "id": "t-atk9DBUi5W",
        "colab_type": "code",
        "outputId": "5e0db652-00af-46c6-d197-7d59583ae9f5",
        "colab": {
          "base_uri": "https://localhost:8080/",
          "height": 80
        }
      },
      "source": [
        "r1= data.corr(method='pearson')\n",
        "r1= r1.loc[['x'],['y1','y2','y3']]\n",
        "r1"
      ],
      "execution_count": 0,
      "outputs": [
        {
          "output_type": "execute_result",
          "data": {
            "text/html": [
              "<div>\n",
              "<style scoped>\n",
              "    .dataframe tbody tr th:only-of-type {\n",
              "        vertical-align: middle;\n",
              "    }\n",
              "\n",
              "    .dataframe tbody tr th {\n",
              "        vertical-align: top;\n",
              "    }\n",
              "\n",
              "    .dataframe thead th {\n",
              "        text-align: right;\n",
              "    }\n",
              "</style>\n",
              "<table border=\"1\" class=\"dataframe\">\n",
              "  <thead>\n",
              "    <tr style=\"text-align: right;\">\n",
              "      <th></th>\n",
              "      <th>y1</th>\n",
              "      <th>y2</th>\n",
              "      <th>y3</th>\n",
              "    </tr>\n",
              "  </thead>\n",
              "  <tbody>\n",
              "    <tr>\n",
              "      <th>x</th>\n",
              "      <td>0.991392</td>\n",
              "      <td>-0.863353</td>\n",
              "      <td>-0.006061</td>\n",
              "    </tr>\n",
              "  </tbody>\n",
              "</table>\n",
              "</div>"
            ],
            "text/plain": [
              "         y1        y2        y3\n",
              "x  0.991392 -0.863353 -0.006061"
            ]
          },
          "metadata": {
            "tags": []
          },
          "execution_count": 7
        }
      ]
    },
    {
      "cell_type": "code",
      "metadata": {
        "id": "zuT6Hmn0jhSy",
        "colab_type": "code",
        "outputId": "fa03eeb0-7023-44c8-f787-f11fabf2037e",
        "colab": {
          "base_uri": "https://localhost:8080/",
          "height": 80
        }
      },
      "source": [
        "r2= data.corr(method='kendall')\n",
        "r2= r2.loc[['x'],['y1','y2','y3']]\n",
        "r2"
      ],
      "execution_count": 0,
      "outputs": [
        {
          "output_type": "execute_result",
          "data": {
            "text/html": [
              "<div>\n",
              "<style scoped>\n",
              "    .dataframe tbody tr th:only-of-type {\n",
              "        vertical-align: middle;\n",
              "    }\n",
              "\n",
              "    .dataframe tbody tr th {\n",
              "        vertical-align: top;\n",
              "    }\n",
              "\n",
              "    .dataframe thead th {\n",
              "        text-align: right;\n",
              "    }\n",
              "</style>\n",
              "<table border=\"1\" class=\"dataframe\">\n",
              "  <thead>\n",
              "    <tr style=\"text-align: right;\">\n",
              "      <th></th>\n",
              "      <th>y1</th>\n",
              "      <th>y2</th>\n",
              "      <th>y3</th>\n",
              "    </tr>\n",
              "  </thead>\n",
              "  <tbody>\n",
              "    <tr>\n",
              "      <th>x</th>\n",
              "      <td>0.917849</td>\n",
              "      <td>-0.678003</td>\n",
              "      <td>-0.007638</td>\n",
              "    </tr>\n",
              "  </tbody>\n",
              "</table>\n",
              "</div>"
            ],
            "text/plain": [
              "         y1        y2        y3\n",
              "x  0.917849 -0.678003 -0.007638"
            ]
          },
          "metadata": {
            "tags": []
          },
          "execution_count": 8
        }
      ]
    },
    {
      "cell_type": "code",
      "metadata": {
        "id": "fKtq3gGwmwDw",
        "colab_type": "code",
        "outputId": "9de9df38-914c-407e-d766-af7923b58199",
        "colab": {
          "base_uri": "https://localhost:8080/",
          "height": 80
        }
      },
      "source": [
        "r3= data.corr(method='spearman')\n",
        "r3= r3.loc[['x'],['y1','y2','y3']]\n",
        "r3"
      ],
      "execution_count": 0,
      "outputs": [
        {
          "output_type": "execute_result",
          "data": {
            "text/html": [
              "<div>\n",
              "<style scoped>\n",
              "    .dataframe tbody tr th:only-of-type {\n",
              "        vertical-align: middle;\n",
              "    }\n",
              "\n",
              "    .dataframe tbody tr th {\n",
              "        vertical-align: top;\n",
              "    }\n",
              "\n",
              "    .dataframe thead th {\n",
              "        text-align: right;\n",
              "    }\n",
              "</style>\n",
              "<table border=\"1\" class=\"dataframe\">\n",
              "  <thead>\n",
              "    <tr style=\"text-align: right;\">\n",
              "      <th></th>\n",
              "      <th>y1</th>\n",
              "      <th>y2</th>\n",
              "      <th>y3</th>\n",
              "    </tr>\n",
              "  </thead>\n",
              "  <tbody>\n",
              "    <tr>\n",
              "      <th>x</th>\n",
              "      <td>0.991811</td>\n",
              "      <td>-0.874565</td>\n",
              "      <td>-0.011126</td>\n",
              "    </tr>\n",
              "  </tbody>\n",
              "</table>\n",
              "</div>"
            ],
            "text/plain": [
              "         y1        y2        y3\n",
              "x  0.991811 -0.874565 -0.011126"
            ]
          },
          "metadata": {
            "tags": []
          },
          "execution_count": 9
        }
      ]
    },
    {
      "cell_type": "markdown",
      "metadata": {
        "id": "jM1dAj8ezryH",
        "colab_type": "text"
      },
      "source": [
        " **3.  Interpret the results**"
      ]
    },
    {
      "cell_type": "markdown",
      "metadata": {
        "id": "PFoRrKhwnkoM",
        "colab_type": "text"
      },
      "source": [
        "\n",
        "*   Correlation coefficient defines the strenth and direction of two variables. \n",
        "\n",
        "*   For the first time series, the value of ($ r = 0.99$) , which shows a strong positive relationship for the time series. \n",
        "\n",
        "*   For the second time series, the value of ($ r = -0.86$) , which shows a strong negative relationship for the time series.\n",
        "\n",
        "*   For the third time series, the value of ($ r = -0.006$) , which shows a weak negative relationship for the time series.\n",
        "\n",
        "\n",
        "\n",
        "\n",
        "\n"
      ]
    },
    {
      "cell_type": "markdown",
      "metadata": {
        "id": "kuisOMgksD8i",
        "colab_type": "text"
      },
      "source": [
        " **4.  Create an own series, which correlation coefficient is approximately resulting in\n",
        "$𝑟 = [0.5 − 0.8 2]$**"
      ]
    },
    {
      "cell_type": "markdown",
      "metadata": {
        "id": "bSUd7JF2sgmy",
        "colab_type": "text"
      },
      "source": [
        "## Task 2: Stationary"
      ]
    },
    {
      "cell_type": "markdown",
      "metadata": {
        "id": "qDJIKn91sq3I",
        "colab_type": "text"
      },
      "source": [
        "Given Two series of measurements are  in the files “exercise1-2.txt” and “exercise1-3.txt”\n",
        "\n",
        "1.   Check both series of measurements for stationary\n",
        "    > Hint: Calculate mean and standard deviation \n",
        "\n"
      ]
    },
    {
      "cell_type": "code",
      "metadata": {
        "id": "xDn-5U7Wm9Be",
        "colab_type": "code",
        "colab": {}
      },
      "source": [
        "data_1_2 = pd.read_csv('Exercise1-2.txt')\n",
        "data_1_3 = pd.read_csv('Exercise1-3.txt')"
      ],
      "execution_count": 0,
      "outputs": []
    },
    {
      "cell_type": "code",
      "metadata": {
        "id": "tCpI-e-Gt0Sj",
        "colab_type": "code",
        "outputId": "a45563c7-b136-459e-ffe1-d9db865186ac",
        "colab": {
          "base_uri": "https://localhost:8080/",
          "height": 419
        }
      },
      "source": [
        "data_1_2"
      ],
      "execution_count": 0,
      "outputs": [
        {
          "output_type": "execute_result",
          "data": {
            "text/html": [
              "<div>\n",
              "<style scoped>\n",
              "    .dataframe tbody tr th:only-of-type {\n",
              "        vertical-align: middle;\n",
              "    }\n",
              "\n",
              "    .dataframe tbody tr th {\n",
              "        vertical-align: top;\n",
              "    }\n",
              "\n",
              "    .dataframe thead th {\n",
              "        text-align: right;\n",
              "    }\n",
              "</style>\n",
              "<table border=\"1\" class=\"dataframe\">\n",
              "  <thead>\n",
              "    <tr style=\"text-align: right;\">\n",
              "      <th></th>\n",
              "      <th>-6.52</th>\n",
              "    </tr>\n",
              "  </thead>\n",
              "  <tbody>\n",
              "    <tr>\n",
              "      <th>0</th>\n",
              "      <td>-6.13</td>\n",
              "    </tr>\n",
              "    <tr>\n",
              "      <th>1</th>\n",
              "      <td>-5.50</td>\n",
              "    </tr>\n",
              "    <tr>\n",
              "      <th>2</th>\n",
              "      <td>-5.94</td>\n",
              "    </tr>\n",
              "    <tr>\n",
              "      <th>3</th>\n",
              "      <td>-6.50</td>\n",
              "    </tr>\n",
              "    <tr>\n",
              "      <th>4</th>\n",
              "      <td>-6.68</td>\n",
              "    </tr>\n",
              "    <tr>\n",
              "      <th>...</th>\n",
              "      <td>...</td>\n",
              "    </tr>\n",
              "    <tr>\n",
              "      <th>1495</th>\n",
              "      <td>5.45</td>\n",
              "    </tr>\n",
              "    <tr>\n",
              "      <th>1496</th>\n",
              "      <td>5.93</td>\n",
              "    </tr>\n",
              "    <tr>\n",
              "      <th>1497</th>\n",
              "      <td>5.80</td>\n",
              "    </tr>\n",
              "    <tr>\n",
              "      <th>1498</th>\n",
              "      <td>5.96</td>\n",
              "    </tr>\n",
              "    <tr>\n",
              "      <th>1499</th>\n",
              "      <td>6.19</td>\n",
              "    </tr>\n",
              "  </tbody>\n",
              "</table>\n",
              "<p>1500 rows × 1 columns</p>\n",
              "</div>"
            ],
            "text/plain": [
              "      -6.52\n",
              "0     -6.13\n",
              "1     -5.50\n",
              "2     -5.94\n",
              "3     -6.50\n",
              "4     -6.68\n",
              "...     ...\n",
              "1495   5.45\n",
              "1496   5.93\n",
              "1497   5.80\n",
              "1498   5.96\n",
              "1499   6.19\n",
              "\n",
              "[1500 rows x 1 columns]"
            ]
          },
          "metadata": {
            "tags": []
          },
          "execution_count": 26
        }
      ]
    },
    {
      "cell_type": "code",
      "metadata": {
        "id": "HYsnrceft2Xf",
        "colab_type": "code",
        "outputId": "aa12b1c4-7489-4e5e-b27e-875eeae25258",
        "colab": {
          "base_uri": "https://localhost:8080/",
          "height": 419
        }
      },
      "source": [
        "data_1_3"
      ],
      "execution_count": 0,
      "outputs": [
        {
          "output_type": "execute_result",
          "data": {
            "text/html": [
              "<div>\n",
              "<style scoped>\n",
              "    .dataframe tbody tr th:only-of-type {\n",
              "        vertical-align: middle;\n",
              "    }\n",
              "\n",
              "    .dataframe tbody tr th {\n",
              "        vertical-align: top;\n",
              "    }\n",
              "\n",
              "    .dataframe thead th {\n",
              "        text-align: right;\n",
              "    }\n",
              "</style>\n",
              "<table border=\"1\" class=\"dataframe\">\n",
              "  <thead>\n",
              "    <tr style=\"text-align: right;\">\n",
              "      <th></th>\n",
              "      <th>156.32</th>\n",
              "    </tr>\n",
              "  </thead>\n",
              "  <tbody>\n",
              "    <tr>\n",
              "      <th>0</th>\n",
              "      <td>157.32</td>\n",
              "    </tr>\n",
              "    <tr>\n",
              "      <th>1</th>\n",
              "      <td>155.30</td>\n",
              "    </tr>\n",
              "    <tr>\n",
              "      <th>2</th>\n",
              "      <td>156.03</td>\n",
              "    </tr>\n",
              "    <tr>\n",
              "      <th>3</th>\n",
              "      <td>157.62</td>\n",
              "    </tr>\n",
              "    <tr>\n",
              "      <th>4</th>\n",
              "      <td>156.79</td>\n",
              "    </tr>\n",
              "    <tr>\n",
              "      <th>...</th>\n",
              "      <td>...</td>\n",
              "    </tr>\n",
              "    <tr>\n",
              "      <th>1495</th>\n",
              "      <td>157.37</td>\n",
              "    </tr>\n",
              "    <tr>\n",
              "      <th>1496</th>\n",
              "      <td>157.95</td>\n",
              "    </tr>\n",
              "    <tr>\n",
              "      <th>1497</th>\n",
              "      <td>156.49</td>\n",
              "    </tr>\n",
              "    <tr>\n",
              "      <th>1498</th>\n",
              "      <td>155.28</td>\n",
              "    </tr>\n",
              "    <tr>\n",
              "      <th>1499</th>\n",
              "      <td>158.92</td>\n",
              "    </tr>\n",
              "  </tbody>\n",
              "</table>\n",
              "<p>1500 rows × 1 columns</p>\n",
              "</div>"
            ],
            "text/plain": [
              "      156.32\n",
              "0     157.32\n",
              "1     155.30\n",
              "2     156.03\n",
              "3     157.62\n",
              "4     156.79\n",
              "...      ...\n",
              "1495  157.37\n",
              "1496  157.95\n",
              "1497  156.49\n",
              "1498  155.28\n",
              "1499  158.92\n",
              "\n",
              "[1500 rows x 1 columns]"
            ]
          },
          "metadata": {
            "tags": []
          },
          "execution_count": 24
        }
      ]
    },
    {
      "cell_type": "code",
      "metadata": {
        "id": "Ije_apTCt4jo",
        "colab_type": "code",
        "outputId": "96980b16-8e39-41cc-a158-29416855a3cb",
        "colab": {
          "base_uri": "https://localhost:8080/",
          "height": 607
        }
      },
      "source": [
        "plt.figure(figsize=(8,10))\n",
        "plt.subplot(2,1,1)\n",
        "plt.plot(data_1_2)\n",
        "plt.title('First Time Series')\n",
        "\n",
        "plt.subplot(2,1,2)\n",
        "plt.plot(data_1_3)\n",
        "plt.title('Second Time Series')\n",
        "\n",
        "plt.show()"
      ],
      "execution_count": 0,
      "outputs": [
        {
          "output_type": "display_data",
          "data": {
            "image/png": "[encoded data removed]",
            "text/plain": [
              "<Figure size 576x720 with 2 Axes>"
            ]
          },
          "metadata": {
            "tags": [],
            "needs_background": "light"
          }
        }
      ]
    },
    {
      "cell_type": "code",
      "metadata": {
        "id": "jfTvKGkjvStB",
        "colab_type": "code",
        "colab": {}
      },
      "source": [
        ""
      ],
      "execution_count": 0,
      "outputs": []
    }
  ]
}